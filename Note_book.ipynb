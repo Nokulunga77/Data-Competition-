{
  "nbformat": 4,
  "nbformat_minor": 0,
  "metadata": {
    "colab": {
      "name": "Data.ipynb",
      "provenance": [],
      "include_colab_link": true
    },
    "kernelspec": {
      "name": "python3",
      "display_name": "Python 3"
    },
    "language_info": {
      "name": "python"
    }
  },
  "cells": [
    {
      "cell_type": "markdown",
      "metadata": {
        "id": "view-in-github",
        "colab_type": "text"
      },
      "source": [
        "<a href=\"https://colab.research.google.com/github/Nokulunga77/Data-Competition-/blob/main/Note_book.ipynb\" target=\"_parent\"><img src=\"https://colab.research.google.com/assets/colab-badge.svg\" alt=\"Open In Colab\"/></a>"
      ]
    },
    {
      "cell_type": "markdown",
      "source": [
        "<img src=\"https://images.newscientist.com/wp-content/uploads/2015/10/mg22830412.800-1_800.jpg?width=800\" >"
      ],
      "metadata": {
        "id": "PQzKuTEgWlt-"
      }
    },
    {
      "cell_type": "markdown",
      "source": [
        "# **Predicting Earthquake Damage**\n",
        "\n",
        "- **Nokulunga Twala**\n",
        "- **Kwanda Mazibuko**"
      ],
      "metadata": {
        "id": "Bno0kq00Xfpu"
      }
    },
    {
      "cell_type": "markdown",
      "source": [
        ""
      ],
      "metadata": {
        "id": "h3EY6L3SZfWU"
      }
    },
    {
      "cell_type": "markdown",
      "source": [
        "## Table of contents\n",
        "1. [Introduction](#intro)\n",
        "2. [Data Collection](#data)\n",
        "3. [Data Preprocessing](#cleaning)\n",
        "4. [Exploratory Data Analysis](#EDA)\n",
        "5. [Feature Engineering And Selection](#features)\n",
        "6. [Model Building And Evaluation](#model)\n",
        "7. [Model Hyperparameter Tuning](#tuning)\n",
        "8. [Conclusion](#conclusion)\n",
        "9. [References](#references)"
      ],
      "metadata": {
        "id": "T7AaGKnkc_AX"
      }
    },
    {
      "cell_type": "markdown",
      "source": [
        "<a id=\"intro\"></a>\n",
        "# 1. **Introduction**"
      ],
      "metadata": {
        "id": "vBv9CKKjdBU-"
      }
    },
    {
      "cell_type": "code",
      "source": [
        ""
      ],
      "metadata": {
        "id": "I2pbb887Wm-t"
      },
      "execution_count": null,
      "outputs": []
    },
    {
      "cell_type": "markdown",
      "source": [
        "<a id=\"data\"></a>\n",
        "# 2. **Data Collection**"
      ],
      "metadata": {
        "id": "x3FuUteAdTxo"
      }
    },
    {
      "cell_type": "markdown",
      "source": [
        "# **Importing Libraries**"
      ],
      "metadata": {
        "id": "r1THQygzeOG6"
      }
    },
    {
      "cell_type": "code",
      "source": [
        "# Libraries for data loading, data manipulation and data visulisation\n",
        "import numpy as np\n",
        "import pandas as pd\n",
        "#\n",
        "import matplotlib.pyplot as plt\n",
        "from matplotlib import rc\n",
        "import seaborn as sns\n",
        "from statsmodels.graphics.correlation import plot_corr\n",
        "from scipy.stats import skew\n",
        "from scipy.stats import kurtosis\n",
        "import statistics\n",
        "\n",
        "# datetime\n",
        "import datetime\n",
        "\n",
        "# Libraries for data preparation and model building\n",
        "import statsmodels.formula.api as sm\n",
        "from statsmodels.formula.api import ols\n",
        "from sklearn import metrics\n",
        "from sklearn.svm import SVR\n",
        "from xgboost.sklearn import XGBRegressor\n",
        "from sklearn.feature_selection import RFE\n",
        "from sklearn.feature_selection import RFECV\n",
        "from sklearn.feature_selection import SelectKBest, chi2\n",
        "from scipy.stats import boxcox, zscore\n",
        "from sklearn.metrics import mean_squared_error\n",
        "from sklearn.tree import DecisionTreeRegressor\n",
        "from sklearn.compose import ColumnTransformer\n",
        "from sklearn.ensemble import RandomForestRegressor, VotingRegressor, StackingRegressor, BaggingRegressor, AdaBoostRegressor\n",
        "from sklearn.linear_model import Lasso, Ridge, LinearRegression\n",
        "from sklearn.model_selection import train_test_split, KFold, cross_val_score, GridSearchCV\n",
        "from sklearn.preprocessing import LabelEncoder, OneHotEncoder, StandardScaler, PolynomialFeatures\n",
        "\n",
        "# Deep Learning\n",
        "\n",
        "# for operating system\n",
        "import os\n",
        "\n",
        "#tensorflow\n",
        "import tensorflow as tf\n",
        "\n",
        "from tensorflow import keras\n",
        "from tensorflow.keras.models import Sequential\n",
        "from tensorflow.keras.layers import Activation, Dense, BatchNormalization, Dropout\n",
        "from tensorflow.keras import optimizers\n",
        "\n",
        "# saving my model\n",
        "import pickle\n",
        "\n",
        "#ignoring warnings\n",
        "import warnings\n",
        "warnings.filterwarnings('ignore')\n",
        "\n",
        "#ignoring warnings\n",
        "import warnings\n",
        "warnings.filterwarnings('ignore')\n",
        "%matplotlib inline\n",
        "\n",
        "#making sure that we can see all rows and cols\n",
        "pd.set_option('display.max_columns', None)\n",
        "\n",
        "pd.set_option('display.max_rows', None)"
      ],
      "metadata": {
        "id": "l9VoHFjfdUyJ"
      },
      "execution_count": 4,
      "outputs": []
    },
    {
      "cell_type": "markdown",
      "source": [
        "### **Loading Data**"
      ],
      "metadata": {
        "id": "3bMdhPArfa7X"
      }
    },
    {
      "cell_type": "code",
      "source": [
        "from google.colab import drive\n",
        "drive.mount('/content/drive')"
      ],
      "metadata": {
        "id": "_WuGnw6vrgVa"
      },
      "execution_count": null,
      "outputs": []
    },
    {
      "cell_type": "code",
      "source": [
        "train_values = pd.read_csv('/content/drive/MyDrive/data/earth_comp_data/train_values.csv')\n",
        "train_labels = pd.read_csv('/content/drive/MyDrive/data/earth_comp_data/train_labels.csv')\n",
        "test_values = pd.read_csv('/content/drive/MyDrive/data/earth_comp_data/test_values.csv')"
      ],
      "metadata": {
        "id": "3BWuLxb1fpBw"
      },
      "execution_count": 11,
      "outputs": []
    },
    {
      "cell_type": "markdown",
      "source": [
        "<a id=\"cleaning\"></a>\n",
        "## 3. **Data Preprocessing**"
      ],
      "metadata": {
        "id": "EX32R3qddf34"
      }
    },
    {
      "cell_type": "code",
      "source": [
        ""
      ],
      "metadata": {
        "id": "T9SJcBj6qLNY",
        "outputId": "dff463b5-4a60-42ab-8747-b97c62315f3d",
        "colab": {
          "base_uri": "https://localhost:8080/"
        }
      },
      "execution_count": 9,
      "outputs": [
        {
          "output_type": "stream",
          "name": "stdout",
          "text": [
            "Mounted at /content/drive\n"
          ]
        }
      ]
    },
    {
      "cell_type": "code",
      "source": [
        ""
      ],
      "metadata": {
        "id": "0w3FtpjQdgwJ"
      },
      "execution_count": null,
      "outputs": []
    },
    {
      "cell_type": "markdown",
      "source": [
        "<a id=\"EDA\"></a>\n",
        "## 4. **Exploratory Data Analysis**"
      ],
      "metadata": {
        "id": "Wuxnoj58dkzn"
      }
    },
    {
      "cell_type": "code",
      "source": [
        ""
      ],
      "metadata": {
        "id": "rGs1NMEedlxP"
      },
      "execution_count": null,
      "outputs": []
    },
    {
      "cell_type": "markdown",
      "source": [
        "<a id=\"features\"></a>\n",
        "## 5. **Feature engineering And Selection**"
      ],
      "metadata": {
        "id": "Gi9LBolpdmbK"
      }
    },
    {
      "cell_type": "code",
      "source": [
        ""
      ],
      "metadata": {
        "id": "6H7lZsfdds7T"
      },
      "execution_count": null,
      "outputs": []
    },
    {
      "cell_type": "markdown",
      "source": [
        "<a id=\"model\"></a>\n",
        "## 6. **Model Building And Evaluation**"
      ],
      "metadata": {
        "id": "V0pwZoyQdtno"
      }
    },
    {
      "cell_type": "code",
      "source": [
        ""
      ],
      "metadata": {
        "id": "PxtcLuyFd2zy"
      },
      "execution_count": null,
      "outputs": []
    },
    {
      "cell_type": "markdown",
      "source": [
        "<a id=\"evaluation\"></a>\n",
        "## 7. **Model Parameter Tuning**"
      ],
      "metadata": {
        "id": "hfADvx2Wd3i9"
      }
    },
    {
      "cell_type": "code",
      "source": [
        ""
      ],
      "metadata": {
        "id": "PUrace2dd9tK"
      },
      "execution_count": null,
      "outputs": []
    },
    {
      "cell_type": "markdown",
      "source": [
        "<a id=\"conclusion\"></a>\n",
        "## 8. **Conclusion**"
      ],
      "metadata": {
        "id": "sVG7jkSIeCZF"
      }
    },
    {
      "cell_type": "code",
      "source": [
        ""
      ],
      "metadata": {
        "id": "CeJPJHyUeDYC"
      },
      "execution_count": null,
      "outputs": []
    },
    {
      "cell_type": "markdown",
      "source": [
        "<a id=\"references\"></a>\n",
        "## 9. **References**"
      ],
      "metadata": {
        "id": "u3oI_1ISeELl"
      }
    },
    {
      "cell_type": "code",
      "source": [
        ""
      ],
      "metadata": {
        "id": "OpuXYGdSeH1b"
      },
      "execution_count": null,
      "outputs": []
    }
  ]
}