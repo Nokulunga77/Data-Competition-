{
  "nbformat": 4,
  "nbformat_minor": 0,
  "metadata": {
    "colab": {
      "name": "Data.ipynb",
      "provenance": [],
      "include_colab_link": true
    },
    "kernelspec": {
      "name": "python3",
      "display_name": "Python 3"
    },
    "language_info": {
      "name": "python"
    }
  },
  "cells": [
    {
      "cell_type": "markdown",
      "metadata": {
        "id": "view-in-github",
        "colab_type": "text"
      },
      "source": [
        "<a href=\"https://colab.research.google.com/github/Nokulunga77/Data-Competition-/blob/main/Note_book.ipynb\" target=\"_parent\"><img src=\"https://colab.research.google.com/assets/colab-badge.svg\" alt=\"Open In Colab\"/></a>"
      ]
    },
    {
      "cell_type": "markdown",
      "source": [
        "<img src=\"https://images.newscientist.com/wp-content/uploads/2015/10/mg22830412.800-1_800.jpg?width=800\" >"
      ],
      "metadata": {
        "id": "PQzKuTEgWlt-"
      }
    },
    {
      "cell_type": "markdown",
      "source": [
        "# **Richter's Predictor: Modeling Earthquake Damage**\n",
        "\n",
        "- **Nokulunga Twala**\n",
        "- **Kwanda Mazibuko**"
      ],
      "metadata": {
        "id": "Bno0kq00Xfpu"
      }
    },
    {
      "cell_type": "code",
      "source": [
        ""
      ],
      "metadata": {
        "id": "I2pbb887Wm-t"
      },
      "execution_count": null,
      "outputs": []
    }
  ]
}